{
 "cells": [
  {
   "cell_type": "markdown",
   "metadata": {},
   "source": [
    "# Assignment 3\n",
    "\n",
    "### Total = 30pts\n",
    "\n",
    "__AI Usage:__ You are able to use AI to help solve the problems as mentioned in class. However, your solutions should contain only PowerShell features that have been discussed in class. Answers that include features not discussed will lose points, even if the script works as expected. If you are unsure of what topics have been discussed, review the class notes or ask your instructor for clarification.\n",
    "\n",
    "---"
   ]
  },
  {
   "cell_type": "markdown",
   "metadata": {},
   "source": [
    "Create an array to hold your name and student number,  \n",
    "use array destructuring to extract the data into variables \n",
    "and then print out the values.<br>  \n",
    "__1 pt__"
   ]
  },
  {
   "cell_type": "code",
   "execution_count": 147,
   "metadata": {
    "dotnet_interactive": {
     "language": "pwsh"
    },
    "vscode": {
     "languageId": "polyglot-notebook"
    }
   },
   "outputs": [
    {
     "name": "stdout",
     "output_type": "stream",
     "text": [
      "Name: Sam McLaughlin StudentID: W0515523\r\n"
     ]
    }
   ],
   "source": [
    "# add your code here\n",
    "$studentInfo = @('Sam', 'McLaughlin', 'W0515523')\n",
    "$firstName, $lastName, $studentId = $studentInfo\n",
    "Write-Host \"Name: $firstName $lastName StudentID: $studentId\"\n",
    "\n"
   ]
  },
  {
   "cell_type": "markdown",
   "metadata": {},
   "source": [
    "Name: Jane Doe, StudentID: w123456"
   ]
  },
  {
   "cell_type": "markdown",
   "metadata": {},
   "source": [
    "---\n",
    "\n",
    "### Part A - Practice (15pts)\n",
    "\n",
    "For each item below, determine the appropriate PowerShell code to generate the desired output.\n",
    "\n",
    "---"
   ]
  },
  {
   "cell_type": "markdown",
   "metadata": {},
   "source": [
    "1. Create an array of all layers in the OSI model.  \n",
    "(e.g. \"Physical\", \"Data Link\", etc.)  \n",
    "Then, loop through the array and print the names of all the layers,  \n",
    "_except_ the layer that begins with the letter 'T'.  \n",
    "(Don't use that layer's full name when looking for it.)<br>  \n",
    "__3 pts__"
   ]
  },
  {
   "cell_type": "code",
   "execution_count": 9,
   "metadata": {
    "dotnet_interactive": {
     "language": "pwsh"
    },
    "vscode": {
     "languageId": "polyglot-notebook"
    }
   },
   "outputs": [
    {
     "name": "stdout",
     "output_type": "stream",
     "text": [
      "Physical\n",
      "Data Link\n",
      "Network\n",
      "Session\n",
      "Presentation\n",
      "Application\n"
     ]
    }
   ],
   "source": [
    "# put your code here\n",
    "$osiLayers = @('Physical', 'Data Link', 'Network', 'Transport', 'Session', 'Presentation', 'Application')\n",
    "\n",
    "foreach ($layer in $osiLayers) {\n",
    "    if ($layer[0] -ne 'T') {\n",
    "        Write-Host $layer\n",
    "    }\n",
    "}"
   ]
  },
  {
   "cell_type": "markdown",
   "metadata": {},
   "source": [
    "2. Create an array of your courses this semester.  \n",
    "Make each element another array, creating a multidimensional array.  \n",
    "Have each row in the 2D array include both the course code and the course name.  \n",
    "e.g. 'PROG1700' and 'Logic and Programming'  \n",
    "Finally, print out the first course name in the list and the last course code.<br>  \n",
    "__3 pts__"
   ]
  },
  {
   "cell_type": "code",
   "execution_count": 10,
   "metadata": {
    "dotnet_interactive": {
     "language": "pwsh"
    },
    "vscode": {
     "languageId": "polyglot-notebook"
    }
   },
   "outputs": [
    {
     "name": "stdout",
     "output_type": "stream",
     "text": [
      "First course name: Logic and Programming\n",
      "Last course code: WEB2400\n"
     ]
    }
   ],
   "source": [
    "# put your code here\n",
    "# Creating a 2D array (jagged array) of courses\n",
    "$courses = @(\n",
    "    @('PROG1700', 'Logic and Programming'),\n",
    "    @('COMP2000', 'Computer Systems'),\n",
    "    @('MATH1500', 'Mathematics for Computing'),\n",
    "    @('DBMS2200', 'Database Management Systems'),\n",
    "    @('WEB2400', 'Web Development')\n",
    ")\n",
    "$firstCourseName = $courses[0][1]  \n",
    "$lastCourseCode = $courses[-1][0]  \n",
    "\n",
    "Write-Host \"First course name: $firstCourseName\"\n",
    "Write-Host \"Last course code: $lastCourseCode\"\n"
   ]
  },
  {
   "cell_type": "markdown",
   "metadata": {},
   "source": [
    "3. Create a hash table that contains a list of common texting slang  \n",
    "and their matching words/phrases (e.g. lol = laugh out loud)  \n",
    "then use the new hash table to decode the following, unintelligle text.<br>  \n",
    "`idk imho fwiw ur skillz r l33t l8r`<br>   \n",
    "Display the decoded text on a single line.<br>  \n",
    "__3 pts__"
   ]
  },
  {
   "cell_type": "code",
   "execution_count": 30,
   "metadata": {
    "dotnet_interactive": {
     "language": "pwsh"
    },
    "polyglot_notebook": {
     "kernelName": "pwsh"
    },
    "vscode": {
     "languageId": "polyglot-notebook"
    }
   },
   "outputs": [
    {
     "name": "stdout",
     "output_type": "stream",
     "text": [
      "I don't know in my humble opinion for what its worth your skills are elite later\r\n"
     ]
    }
   ],
   "source": [
    "# add your code here\n",
    "# Creating a hash table for texting slang and their meanings\n",
    "$slangDictionary = @{\n",
    "    'lol'  = 'laugh out loud'\n",
    "    'idk'  = \"I don't know\"\n",
    "    'imho' = 'in my humble opinion'\n",
    "    'fwiw' = 'for what its worth'\n",
    "    'ur'   = 'your'\n",
    "    'skillz' = 'skills'\n",
    "    'r'    = 'are'\n",
    "    'l33t' = 'elite'\n",
    "    'l8r'  = 'later'\n",
    "}\n",
    "\n",
    "$encodedText = 'idk imho fwiw ur skillz r l33t l8r'\n",
    "\n",
    "$words = $encodedText.Split()\n",
    "\n",
    "$decodedText = $words | ForEach-Object { \n",
    "    if ($slangDictionary.ContainsKey($_)) {\n",
    "        $slangDictionary[$_]\n",
    "    } else {\n",
    "        $_\n",
    "    }\n",
    "}\n",
    "\n",
    "Write-Host ($decodedText -join ' ')\n"
   ]
  },
  {
   "cell_type": "markdown",
   "metadata": {},
   "source": [
    "4. Create a program that takes a lowercase word,  \n",
    "then makes every odd letter upper case and every even letter lower case.  \n",
    "Print out the resulting word.<br>    \n",
    "e.g. `elite => ElItE`<br>  \n",
    "__3 pts__\n"
   ]
  },
  {
   "cell_type": "code",
   "execution_count": 101,
   "metadata": {
    "dotnet_interactive": {
     "language": "pwsh"
    },
    "vscode": {
     "languageId": "polyglot-notebook"
    }
   },
   "outputs": [
    {
     "name": "stdout",
     "output_type": "stream",
     "text": [
      "HaCkEr\r\n"
     ]
    }
   ],
   "source": [
    "# use this word\n",
    "$word = \"hacker\"\n",
    "\n",
    "# add your code here\n",
    "$result = \"\"\n",
    "for ($i = 0; $i -lt $word.Length; $i++) {\n",
    "    $char = [string]$word[$i]\n",
    "    if ($i % 2 -eq 0) {\n",
    "        $result += $char.ToUpper()\n",
    "    } else {\n",
    "        $result += $char.ToLower()\n",
    "    }\n",
    "}\n",
    "Write-Host $result\n",
    "\n"
   ]
  },
  {
   "cell_type": "markdown",
   "metadata": {},
   "source": [
    "5. Create a program that produces an acronym from a series of words.  \n",
    "e.g. if the input is `\"Nova Scotia Community College\"`, the output should be `\"NSCC\"`<br>  \n",
    "__3 pts__\n"
   ]
  },
  {
   "cell_type": "code",
   "execution_count": 89,
   "metadata": {
    "dotnet_interactive": {
     "language": "pwsh"
    },
    "vscode": {
     "languageId": "polyglot-notebook"
    }
   },
   "outputs": [
    {
     "name": "stdout",
     "output_type": "stream",
     "text": [
      "NSCC\r\n"
     ]
    }
   ],
   "source": [
    "$text = \"Nova Scotia Community College\"\n",
    "$acronym = \"\"\n",
    "\n",
    "$words_array = $text.Split(\" \")\n",
    "foreach ($word in $words_array) {\n",
    "    $acronym += $word.Substring(0, 1).ToUpper()  \n",
    "}\n",
    "\n",
    "Write-Host $acronym\n",
    "\n",
    "\n"
   ]
  },
  {
   "cell_type": "markdown",
   "metadata": {},
   "source": [
    "---\n",
    "### Part B - Bug Hunt (10pts)\n",
    "\n",
    "For the following questions, locate the bug(s) hidden in the code.  \n",
    "Write a brief sentence describing the bug(s) in the space provided.  \n",
    "Then, fix the bug(s) in the code to verify your fix works.<br>   \n",
    "__Note:__ Just find and fix the bug(s), don't rewrite the script.\n",
    "\n",
    "---\n"
   ]
  },
  {
   "cell_type": "markdown",
   "metadata": {},
   "source": [
    "6. The following data was extracted from a log file, however,  \n",
    "the data isn't in the desired format used in a weekly report.<br>  \n",
    "The script should take the dates in the format `\"yyyy-mm-dd HH:MM:SS\"` and  \n",
    "convert them into the format `\"mmm dd, yyyy\"`, ignoring the time.<br>  \n",
    "e.g. `2024-06-14 12:53:05 AM` => `Jun 14, 2024`<br>  \n",
    "__3 pts__\n"
   ]
  },
  {
   "cell_type": "markdown",
   "metadata": {
    "dotnet_interactive": {
     "language": "value"
    },
    "polyglot_notebook": {
     "kernelName": "value"
    }
   },
   "source": [
    "__Question:__ Describe what the bug is below.\n",
    "\n",
    "__Answer:__\n",
    "Convert $mm to an Integer: [int]$mm changes $mm from a string to an integer.\n",
    "Adjust Array Index: By subtracting 1, we ensure that \"06\" (June) maps to the 5th index of $months.Split(\",\"), which is \"Jun\"."
   ]
  },
  {
   "cell_type": "code",
   "execution_count": 53,
   "metadata": {
    "dotnet_interactive": {
     "language": "pwsh"
    },
    "vscode": {
     "languageId": "polyglot-notebook"
    }
   },
   "outputs": [
    {
     "name": "stdout",
     "output_type": "stream",
     "text": [
      "Date\t\tID\tLevel\t\tMessage\n",
      "Jul 14, 2024\t10000\tInformation\tStarting session 0\n"
     ]
    }
   ],
   "source": [
    "# convert this log entry\n",
    "$logEntry = \"2024-06-14 12:53:05 AM`t10000`tInformation`tStarting session 0\"\n",
    "\n",
    "#find the bug here somewhere \n",
    "$months = \"Jan,Feb,Mar,Apr,May,Jun,Jul,Aug,Sep,Oct,Nov,Dec\"\n",
    "$created, $id, $level, $message = $logEntry.Split(\"`t\")\n",
    "$date, $time = $created.Split()\n",
    "$yyyy, $mm, $dd = $date.Split(\"-\")\n",
    "$mmm = $months.Split(\",\")[([int]$mm - 1)]\n",
    "\n",
    "\"Date`t`tID`tLevel`t`tMessage\"\n",
    "\"$mmm $dd, $yyyy`t$id`t$level`t$message\""
   ]
  },
  {
   "cell_type": "markdown",
   "metadata": {},
   "source": [
    "7. The following script takes a hash table of all the assignments, quizzes and exams from this course. It should determine the final grade as a percentage and shows whether the student has passed or failed the course.<br>  \n",
    "__4 pts__\n"
   ]
  },
  {
   "cell_type": "markdown",
   "metadata": {},
   "source": [
    "__Question:__ Describe what the bugs are below.\n",
    "\n",
    "__Answer:__\n",
    "There is a couple errors, the name typo \"Assignments\" vs \"Assignment\". incorrect quiz weight, 0.025 instead of 0.25."
   ]
  },
  {
   "cell_type": "code",
   "execution_count": 63,
   "metadata": {
    "dotnet_interactive": {
     "language": "pwsh"
    },
    "vscode": {
     "languageId": "polyglot-notebook"
    }
   },
   "outputs": [
    {
     "name": "stdout",
     "output_type": "stream",
     "text": [
      "Final Grade: 67%\u001b[92m (PASS)\u001b[0m\n"
     ]
    }
   ],
   "source": [
    "\n",
    "$grades = @{\n",
    "    'Assignments'= @(45, 65, 12, 78, 52, 87);\n",
    "    'Quizzes'= @(89, 45, 67, 90);\n",
    "    'Midterm'= 72;\n",
    "    'Final'= 85\n",
    "}\n",
    "$assignmentGrade = 0\n",
    "foreach ($grade in $grades['Assignments']) {\n",
    "    $assignmentGrade += $grade\n",
    "}\n",
    "$assignmentGrade /= $grades['Assignments'].Count\n",
    "$quizGrade = 0\n",
    "foreach ($grade in $grades['Quizzes']) {\n",
    "    $quizGrade += $grade\n",
    "}\n",
    "$quizGrade /= $grades['Quizzes'].Count\n",
    "[int]$finalGrade = ($assignmentGrade * 0.45) + ($quizGrade * 0.25) + \n",
    "                   ($grades['Midterm'] * 0.15) + ($grades['Final'] * 0.15)\n",
    "\n",
    "Write-Host (\"Final Grade: {0:N0}%\" -f $finalGrade) -NoNewline\n",
    "if ($finalGrade -ge 60) {\n",
    "    Write-Host \" (PASS)\" -ForegroundColor Green\n",
    "} else {\n",
    "    Write-Host \" (FAIL)\" -ForegroundColor Red\n",
    "}\n"
   ]
  },
  {
   "cell_type": "markdown",
   "metadata": {},
   "source": [
    "8. A simple method of encryption/decryption is known as __\"ROT-13\"__, a type of \"substitution cipher\", where letters in a message are replaced by other letters in the alphabet that are 13 away from the original letter.\n",
    "<br>  \n",
    "In effect the original alphabet is converted to the following:  \n",
    "`ABCDEFGHIJKLMNOPQRSTUVWXYZ` => `NOPQRSTUVWXYZABCDEFGHIJKLM`  \n",
    "<br>\n",
    "The script below should take a given message and encrypt it using the ROT-13 cipher.  \n",
    "e.g. `\"nscc\"` => `\"afpp\"`  \n",
    "<br>\n",
    "__3 pts__\n"
   ]
  },
  {
   "cell_type": "markdown",
   "metadata": {},
   "source": [
    "__Question:__ Describe what the bug is below.\n",
    "\n",
    "__Answer:__\n",
    "$letter + 12 was the reason that the cypher was not working properly, it was only shifting the letters 12 down the alphabet. upon adjusting this to 13 the script works as intended"
   ]
  },
  {
   "cell_type": "code",
   "execution_count": 59,
   "metadata": {
    "dotnet_interactive": {
     "language": "pwsh"
    },
    "vscode": {
     "languageId": "polyglot-notebook"
    }
   },
   "outputs": [
    {
     "name": "stdout",
     "output_type": "stream",
     "text": [
      "nscc => afpp\r\n"
     ]
    }
   ],
   "source": [
    "# message to encrypt\n",
    "$message = \"nscc\"\n",
    "\n",
    "$key = [ordered]@{}\n",
    "for ($letter = 0; $letter -le 25; $letter++) {\n",
    "    $key.Add([char]($letter + 97), [char](($letter + 13) % 26 + 97))\n",
    "}\n",
    "$encrypted = \"\"\n",
    "for ($letter = 0; $letter -lt $message.Length; $letter++) {\n",
    "    $encrypted += $key[$message[$letter]]\n",
    "}\n",
    "Write-Host \"$message => $encrypted\"\n"
   ]
  },
  {
   "cell_type": "markdown",
   "metadata": {},
   "source": [
    "---\n",
    "### Part C - Practical (5pts)\n"
   ]
  },
  {
   "cell_type": "markdown",
   "metadata": {},
   "source": [
    "The following is a list of new employees that have been hired at your company.\n",
    "\n",
    "Ella Forester  \n",
    "Liam Jackson  \n",
    "Wendy Johnston  \n",
    "Noah Jenkins  \n",
    "Sophia Jordan  \n",
    "William Johnson  \n",
    "Ava Adams  \n",
    "Ethan Forestall  \n",
    "Isabella Ingram  \n",
    "Mason Mitchell  \n",
    "\n",
    "The IT department has been tasked with setting up new user accounts for each employee.\n",
    "In order to do this, they need to create a script that will generate a username for each employee based on the following rules:\n",
    "\n",
    "- The username should be the first letter of the employee's first name, followed by the first 4 letters of their last name.\n",
    "- The username should be all lowercase.\n",
    "- If the username is already taken, add a number to the end of the username to make it unique.\n",
    "\n",
    "Create a script that will take an array of the given employee names and generate a username for each employee based on the rules above. The script should output all the employees' names with their new username in the format \"<firstname> <lastname> => <username>\"\n",
    "\n",
    "e.g.\n",
    "\n",
    "John Smith => jsmit\n",
    "Sally Jones => sjone\n",
    "Jack Smits => jsmit2\n",
    "...\n"
   ]
  },
  {
   "cell_type": "code",
   "execution_count": 90,
   "metadata": {
    "dotnet_interactive": {
     "language": "pwsh"
    },
    "polyglot_notebook": {
     "kernelName": "pwsh"
    },
    "vscode": {
     "languageId": "polyglot-notebook"
    }
   },
   "outputs": [
    {
     "name": "stdout",
     "output_type": "stream",
     "text": [
      "Ella Forester => efore\n",
      "Liam Jackson => ljack\n",
      "Wendy Johnston => wjohn\n",
      "Noah Jenkins => njenk\n",
      "Sophia Jordan => sjord\n",
      "William Johnson => wjohn1\n",
      "Ava Adams => aadam\n",
      "Ethan Forestall => efore1\n",
      "Isabella Ingram => iingr\n",
      "Mason Mitchell => mmitc\n"
     ]
    }
   ],
   "source": [
    "# List of new employees\n",
    "$employees = @(\n",
    "    \"Ella Forester\",\n",
    "    \"Liam Jackson\",\n",
    "    \"Wendy Johnston\",\n",
    "    \"Noah Jenkins\",\n",
    "    \"Sophia Jordan\",\n",
    "    \"William Johnson\",\n",
    "    \"Ava Adams\",\n",
    "    \"Ethan Forestall\",\n",
    "    \"Isabella Ingram\",\n",
    "    \"Mason Mitchell\"\n",
    ")\n",
    "$usernames = @{}\n",
    "\n",
    "foreach ($employee in $employees) {\n",
    "    $firstName, $lastName = $employee.Split(\" \")\n",
    "    $baseUsername = ($firstName[0] + $lastName.Substring(0, [math]::Min(4, $lastName.Length))).ToLower()\n",
    "    $username = $baseUsername\n",
    "    $counter = 1\n",
    "    while ($usernames.ContainsKey($username)) {\n",
    "        $username = \"$baseUsername$counter\"\n",
    "        $counter++\n",
    "    }\n",
    "    $usernames[$username] = $true\n",
    "    Write-Host \"$employee => $username\"\n",
    "}\n"
   ]
  }
 ],
 "metadata": {
  "hide_input": false,
  "kernel_info": {
   "name": "python3"
  },
  "kernelspec": {
   "display_name": ".NET (C#)",
   "language": "C#",
   "name": ".net-csharp"
  },
  "language_info": {
   "file_extension": ".cs",
   "mimetype": "text/x-csharp",
   "name": "C#",
   "pygments_lexer": "csharp",
   "version": "9.0"
  },
  "nteract": {
   "version": "0.15.0"
  },
  "polyglot_notebook": {
   "kernelInfo": {
    "defaultKernelName": "csharp",
    "items": [
     {
      "aliases": [],
      "name": "csharp"
     }
    ]
   }
  }
 },
 "nbformat": 4,
 "nbformat_minor": 4
}
